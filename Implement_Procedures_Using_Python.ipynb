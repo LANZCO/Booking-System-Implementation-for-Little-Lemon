{
  "nbformat": 4,
  "nbformat_minor": 0,
  "metadata": {
    "colab": {
      "provenance": []
    },
    "kernelspec": {
      "name": "python3",
      "display_name": "Python 3"
    },
    "language_info": {
      "name": "python"
    }
  },
  "cells": [
    {
      "cell_type": "code",
      "execution_count": null,
      "metadata": {
        "id": "iylZE3dEkfDP"
      },
      "outputs": [],
      "source": [
        "def add_booking(connection, customer_id, table_number, booking_date, booking_time, num_guests):\n",
        "    cursor = connection.cursor()\n",
        "    query = \"\"\"\n",
        "    INSERT INTO Bookings (CustomerID, TableNumber, BookingDate, BookingTime, NumberOfGuests)\n",
        "    VALUES (%s, %s, %s, %s, %s)\n",
        "    \"\"\"\n",
        "    record = (customer_id, table_number, booking_date, booking_time, num_guests)\n",
        "    cursor.execute(query, record)\n",
        "    connection.commit()\n",
        "    print(\"Booking added successfully.\")"
      ]
    }
  ]
}