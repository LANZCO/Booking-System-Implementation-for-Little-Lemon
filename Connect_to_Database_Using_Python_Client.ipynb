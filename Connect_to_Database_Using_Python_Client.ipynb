{
  "nbformat": 4,
  "nbformat_minor": 0,
  "metadata": {
    "colab": {
      "provenance": []
    },
    "kernelspec": {
      "name": "python3",
      "display_name": "Python 3"
    },
    "language_info": {
      "name": "python"
    }
  },
  "cells": [
    {
      "cell_type": "code",
      "execution_count": null,
      "metadata": {
        "id": "iylZE3dEkfDP"
      },
      "outputs": [],
      "source": [
        "import mysql.connector\n",
        "from mysql.connector import Error\n",
        "\n",
        "def create_server_connection(host_name, user_name, user_password, db_name):\n",
        "    connection = None\n",
        "    try:\n",
        "        connection = mysql.connector.connect(\n",
        "            host=host_name,\n",
        "            user=user_name,\n",
        "            passwd=user_password,\n",
        "            database=db_name\n",
        "        )\n",
        "        print(\"MySQL Database connection successful\")\n",
        "    except Error as err:\n",
        "        print(f\"Error: '{err}'\")\n",
        "\n",
        "    return connection\n",
        "\n",
        "# Replace with your MySQL server details\n",
        "connection = create_server_connection(\"localhost\", \"username\", \"password\", \"little_lemon_db\")"
      ]
    }
  ]
}